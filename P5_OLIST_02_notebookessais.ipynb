{
 "cells": [
  {
   "cell_type": "markdown",
   "metadata": {
    "id": "CGFeNRiwMjRp"
   },
   "source": [
    "# Modelisation avec unsupervised learning"
   ]
  },
  {
   "cell_type": "code",
   "execution_count": 6,
   "metadata": {
    "id": "jlDCiummMjRv"
   },
   "outputs": [],
   "source": [
    "\n",
    "import pandas as pd\n",
    "import numpy as np\n",
    "import matplotlib.pyplot as plt\n",
    "from sklearn.cluster import KMeans\n",
    "from sklearn.metrics import silhouette_score\n",
    "from sklearn.preprocessing import StandardScaler\n",
    "from sklearn.cluster import DBSCAN\n",
    "from sklearn.metrics import adjusted_rand_score\n"
   ]
  },
  {
   "cell_type": "code",
   "execution_count": 2,
   "metadata": {},
   "outputs": [],
   "source": [
    "df_ = pd.read_csv('grouped_RFM.csv').drop(columns='Unnamed: 0')"
   ]
  },
  {
   "cell_type": "code",
   "execution_count": 125,
   "metadata": {},
   "outputs": [
    {
     "data": {
      "text/html": [
       "<div>\n",
       "<style scoped>\n",
       "    .dataframe tbody tr th:only-of-type {\n",
       "        vertical-align: middle;\n",
       "    }\n",
       "\n",
       "    .dataframe tbody tr th {\n",
       "        vertical-align: top;\n",
       "    }\n",
       "\n",
       "    .dataframe thead th {\n",
       "        text-align: right;\n",
       "    }\n",
       "</style>\n",
       "<table border=\"1\" class=\"dataframe\">\n",
       "  <thead>\n",
       "    <tr style=\"text-align: right;\">\n",
       "      <th></th>\n",
       "      <th>derniere_date_cmd</th>\n",
       "      <th>nbre_cmd_diff</th>\n",
       "      <th>nbre_jour_apres_der_cmd</th>\n",
       "      <th>price</th>\n",
       "    </tr>\n",
       "  </thead>\n",
       "  <tbody>\n",
       "    <tr>\n",
       "      <th>0</th>\n",
       "      <td>2018-05-10 10:56:27</td>\n",
       "      <td>1</td>\n",
       "      <td>111</td>\n",
       "      <td>129.9</td>\n",
       "    </tr>\n",
       "    <tr>\n",
       "      <th>1</th>\n",
       "      <td>2018-05-07 11:11:27</td>\n",
       "      <td>1</td>\n",
       "      <td>114</td>\n",
       "      <td>18.9</td>\n",
       "    </tr>\n",
       "    <tr>\n",
       "      <th>2</th>\n",
       "      <td>2017-03-10 21:05:03</td>\n",
       "      <td>1</td>\n",
       "      <td>537</td>\n",
       "      <td>69.0</td>\n",
       "    </tr>\n",
       "  </tbody>\n",
       "</table>\n",
       "</div>"
      ],
      "text/plain": [
       "     derniere_date_cmd  nbre_cmd_diff  nbre_jour_apres_der_cmd  price\n",
       "0  2018-05-10 10:56:27              1                      111  129.9\n",
       "1  2018-05-07 11:11:27              1                      114   18.9\n",
       "2  2017-03-10 21:05:03              1                      537   69.0"
      ]
     },
     "execution_count": 125,
     "metadata": {},
     "output_type": "execute_result"
    }
   ],
   "source": [
    "df_.head(3)"
   ]
  },
  {
   "cell_type": "code",
   "execution_count": 3,
   "metadata": {},
   "outputs": [],
   "source": [
    "df_ = df_.sort_values(by='nbre_jour_apres_der_cmd', ascending = False).reset_index().drop(columns='index')"
   ]
  },
  {
   "cell_type": "code",
   "execution_count": 127,
   "metadata": {},
   "outputs": [
    {
     "data": {
      "text/html": [
       "<div>\n",
       "<style scoped>\n",
       "    .dataframe tbody tr th:only-of-type {\n",
       "        vertical-align: middle;\n",
       "    }\n",
       "\n",
       "    .dataframe tbody tr th {\n",
       "        vertical-align: top;\n",
       "    }\n",
       "\n",
       "    .dataframe thead th {\n",
       "        text-align: right;\n",
       "    }\n",
       "</style>\n",
       "<table border=\"1\" class=\"dataframe\">\n",
       "  <thead>\n",
       "    <tr style=\"text-align: right;\">\n",
       "      <th></th>\n",
       "      <th>derniere_date_cmd</th>\n",
       "      <th>nbre_cmd_diff</th>\n",
       "      <th>nbre_jour_apres_der_cmd</th>\n",
       "      <th>price</th>\n",
       "    </tr>\n",
       "  </thead>\n",
       "  <tbody>\n",
       "    <tr>\n",
       "      <th>0</th>\n",
       "      <td>2016-09-04 21:15:19</td>\n",
       "      <td>1</td>\n",
       "      <td>724</td>\n",
       "      <td>39.99</td>\n",
       "    </tr>\n",
       "    <tr>\n",
       "      <th>1</th>\n",
       "      <td>2016-09-05 00:15:34</td>\n",
       "      <td>1</td>\n",
       "      <td>723</td>\n",
       "      <td>59.50</td>\n",
       "    </tr>\n",
       "    <tr>\n",
       "      <th>2</th>\n",
       "      <td>2016-10-02 22:07:52</td>\n",
       "      <td>1</td>\n",
       "      <td>696</td>\n",
       "      <td>100.00</td>\n",
       "    </tr>\n",
       "  </tbody>\n",
       "</table>\n",
       "</div>"
      ],
      "text/plain": [
       "     derniere_date_cmd  nbre_cmd_diff  nbre_jour_apres_der_cmd   price\n",
       "0  2016-09-04 21:15:19              1                      724   39.99\n",
       "1  2016-09-05 00:15:34              1                      723   59.50\n",
       "2  2016-10-02 22:07:52              1                      696  100.00"
      ]
     },
     "execution_count": 127,
     "metadata": {},
     "output_type": "execute_result"
    }
   ],
   "source": [
    "df_.head(3)"
   ]
  },
  {
   "cell_type": "markdown",
   "metadata": {},
   "source": [
    "# CLUSTERING :"
   ]
  },
  {
   "cell_type": "code",
   "execution_count": 4,
   "metadata": {},
   "outputs": [],
   "source": [
    "df = df_.drop(columns='derniere_date_cmd')\n"
   ]
  },
  {
   "cell_type": "markdown",
   "metadata": {
    "id": "n1s-h21HMjR1"
   },
   "source": [
    "#### Standardisons nos données"
   ]
  },
  {
   "cell_type": "code",
   "execution_count": 93,
   "metadata": {
    "id": "zfMYLkDgMjR2"
   },
   "outputs": [],
   "source": [
    "#df = StandardScaler().fit_transform(df)"
   ]
  },
  {
   "cell_type": "markdown",
   "metadata": {},
   "source": [
    "## 1 - KMEANS"
   ]
  },
  {
   "cell_type": "markdown",
   "metadata": {},
   "source": [
    "### CHOIX DU NOMBRE DE CLUSTERS"
   ]
  },
  {
   "cell_type": "markdown",
   "metadata": {},
   "source": [
    "#### LA METHODE DU COEFFICIENT DE SILHOUETTE"
   ]
  },
  {
   "cell_type": "code",
   "execution_count": 130,
   "metadata": {},
   "outputs": [],
   "source": [
    "# A list holds the silhouette coefficients for each k\n",
    "silhouette_coefficients = []\n",
    "\n",
    "# Notice we start at 2 clusters for silhouette coefficient\n",
    "for k in range(2, 6):\n",
    "    kmeans = KMeans(n_clusters=k) # **kmeans_kwargs\n",
    "    kmeans.fit(df)\n",
    "    score = silhouette_score(df, kmeans.labels_)\n",
    "    silhouette_coefficients.append(score)\n",
    "\n"
   ]
  },
  {
   "cell_type": "code",
   "execution_count": 131,
   "metadata": {},
   "outputs": [
    {
     "data": {
      "image/png": "[encoded data removed]",
      "text/plain": [
       "<Figure size 432x288 with 1 Axes>"
      ]
     },
     "metadata": {},
     "output_type": "display_data"
    }
   ],
   "source": [
    "\n",
    "# Visualisation\n",
    "plt.style.use(\"fivethirtyeight\")\n",
    "plt.plot(range(2, 6), silhouette_coefficients)\n",
    "plt.xticks(range(2, 6))\n",
    "plt.xlabel(\"Number of Clusters\")\n",
    "plt.ylabel(\"Silhouette Coefficient\")\n",
    "plt.show()"
   ]
  },
  {
   "cell_type": "code",
   "execution_count": 132,
   "metadata": {
    "colab": {
     "base_uri": "https://localhost:8080/"
    },
    "id": "k2crl0hAMjR8",
    "outputId": "3df786e2-9484-4936-96d8-c27e5ce917d3"
   },
   "outputs": [
    {
     "data": {
      "text/plain": [
       "KMeans(n_clusters=2)"
      ]
     },
     "execution_count": 132,
     "metadata": {},
     "output_type": "execute_result"
    }
   ],
   "source": [
    "Kmeans = KMeans(n_clusters=2)\n",
    "Kmeans.fit(df)"
   ]
  },
  {
   "cell_type": "code",
   "execution_count": 133,
   "metadata": {
    "id": "eb1enqGLMjR_"
   },
   "outputs": [],
   "source": [
    "\n",
    "kmeans_silhouette = silhouette_score(df, Kmeans.labels_).round(2)\n"
   ]
  },
  {
   "cell_type": "code",
   "execution_count": 135,
   "metadata": {
    "colab": {
     "base_uri": "https://localhost:8080/"
    },
    "id": "mPUYvHjeMjSA",
    "outputId": "18ffcba3-2ae0-4934-8c9a-b755ba977b2a"
   },
   "outputs": [
    {
     "data": {
      "text/plain": [
       "0.74"
      ]
     },
     "execution_count": 135,
     "metadata": {},
     "output_type": "execute_result"
    }
   ],
   "source": [
    "kmeans_silhouette"
   ]
  },
  {
   "cell_type": "markdown",
   "metadata": {
    "id": "9d0ns8OdMjR9"
   },
   "source": [
    "### 2 - DBSCAN"
   ]
  },
  {
   "cell_type": "code",
   "execution_count": null,
   "metadata": {},
   "outputs": [],
   "source": []
  },
  {
   "cell_type": "code",
   "execution_count": 103,
   "metadata": {
    "id": "GtbyD29xMjR9"
   },
   "outputs": [],
   "source": [
    "# recherche du meilleur eps pour DBSCAN\n",
    "\n",
    "def dict_best_eps(list_eps, df):    \n",
    "    dic = {}\n",
    "    for eps in list_eps:\n",
    "        dic[eps] = silhouette_score(df, DBSCAN(eps=eps).fit(df).labels_).round(2)\n",
    "\n",
    "    return [(k, dic[k]) for k in dic.keys() if max(dic.values()) == dic[k]]\n"
   ]
  },
  {
   "cell_type": "code",
   "execution_count": null,
   "metadata": {
    "id": "iscOAMvWMjR-"
   },
   "outputs": [],
   "source": [
    "bes_eps = dict_best_eps([34, 35, 36], df)"
   ]
  },
  {
   "cell_type": "code",
   "execution_count": 32,
   "metadata": {
    "colab": {
     "base_uri": "https://localhost:8080/"
    },
    "id": "YGQrER-1MjR-",
    "outputId": "1ce95708-fae8-4a37-b3df-2f4039ed2e67"
   },
   "outputs": [
    {
     "data": {
      "text/plain": [
       "[(34, 0.62), (35, 0.62)]"
      ]
     },
     "execution_count": 32,
     "metadata": {},
     "output_type": "execute_result"
    }
   ],
   "source": [
    "bes_eps"
   ]
  },
  {
   "cell_type": "code",
   "execution_count": 115,
   "metadata": {},
   "outputs": [
    {
     "data": {
      "text/plain": [
       "array([[-0.16104597,  3.14236146, -0.45196532],\n",
       "       [-0.16104597,  3.13585311, -0.3509682 ]])"
      ]
     },
     "execution_count": 115,
     "metadata": {},
     "output_type": "execute_result"
    }
   ],
   "source": [
    "df[:2]"
   ]
  },
  {
   "cell_type": "code",
   "execution_count": 7,
   "metadata": {
    "colab": {
     "base_uri": "https://localhost:8080/"
    },
    "id": "QPlmEvSmMjR_",
    "outputId": "dab9d3a0-58db-4356-abe3-d0ac6b741914"
   },
   "outputs": [
    {
     "data": {
      "text/plain": [
       "DBSCAN(eps=34)"
      ]
     },
     "execution_count": 7,
     "metadata": {},
     "output_type": "execute_result"
    }
   ],
   "source": [
    "DBSCAN_ = DBSCAN(eps=34)\n",
    "DBSCAN_.fit(df)"
   ]
  },
  {
   "cell_type": "code",
   "execution_count": 8,
   "metadata": {
    "colab": {
     "base_uri": "https://localhost:8080/"
    },
    "id": "Ko9gd1fEMjSA",
    "outputId": "2a91a8b8-9d0c-4d72-a3db-0e4176e50d4e"
   },
   "outputs": [],
   "source": [
    "dbscan_silhouette = silhouette_score(df, DBSCAN_.labels_).round(2)"
   ]
  },
  {
   "cell_type": "code",
   "execution_count": 9,
   "metadata": {},
   "outputs": [
    {
     "data": {
      "text/plain": [
       "0.43"
      ]
     },
     "execution_count": 9,
     "metadata": {},
     "output_type": "execute_result"
    }
   ],
   "source": [
    "dbscan_silhouette"
   ]
  },
  {
   "cell_type": "markdown",
   "metadata": {},
   "source": [
    "### KMEANS remporte largement sur DBSCAN dans notre problème de clustering"
   ]
  },
  {
   "cell_type": "markdown",
   "metadata": {},
   "source": [
    "## interprétation des clusters obtenus destinée aux équipes métiers (marketing)"
   ]
  },
  {
   "cell_type": "code",
   "execution_count": 138,
   "metadata": {},
   "outputs": [],
   "source": [
    "df['cluster'] = Kmeans.labels_"
   ]
  },
  {
   "cell_type": "code",
   "execution_count": 139,
   "metadata": {},
   "outputs": [
    {
     "data": {
      "text/plain": [
       "array([1, 0])"
      ]
     },
     "execution_count": 139,
     "metadata": {},
     "output_type": "execute_result"
    }
   ],
   "source": [
    "df['cluster'].unique()"
   ]
  },
  {
   "cell_type": "code",
   "execution_count": 140,
   "metadata": {},
   "outputs": [
    {
     "data": {
      "text/plain": [
       "(2943, 4)"
      ]
     },
     "execution_count": 140,
     "metadata": {},
     "output_type": "execute_result"
    }
   ],
   "source": [
    "df[df['cluster']==0].shape"
   ]
  },
  {
   "cell_type": "code",
   "execution_count": 141,
   "metadata": {},
   "outputs": [
    {
     "data": {
      "text/plain": [
       "(92476, 4)"
      ]
     },
     "execution_count": 141,
     "metadata": {},
     "output_type": "execute_result"
    }
   ],
   "source": [
    "df[df['cluster']==1].shape"
   ]
  },
  {
   "cell_type": "markdown",
   "metadata": {},
   "source": [
    "On a environ 90% ou plus des nos données dans le 2ème cluster, ce qui n'est pas très intéressant.\n",
    "\n",
    "Nous allons donc prendre le 2eme nbre de cluster optimal à savoir 4"
   ]
  },
  {
   "cell_type": "code",
   "execution_count": 5,
   "metadata": {},
   "outputs": [
    {
     "data": {
      "text/plain": [
       "KMeans(n_clusters=4)"
      ]
     },
     "execution_count": 5,
     "metadata": {},
     "output_type": "execute_result"
    }
   ],
   "source": [
    "Kmeans = KMeans(n_clusters=4)\n",
    "Kmeans.fit(df)"
   ]
  },
  {
   "cell_type": "code",
   "execution_count": 143,
   "metadata": {},
   "outputs": [],
   "source": [
    "df['cluster'] = Kmeans.labels_"
   ]
  },
  {
   "cell_type": "code",
   "execution_count": 144,
   "metadata": {},
   "outputs": [
    {
     "data": {
      "text/plain": [
       "array([0, 2, 3, 1])"
      ]
     },
     "execution_count": 144,
     "metadata": {},
     "output_type": "execute_result"
    }
   ],
   "source": [
    "df['cluster'].unique()"
   ]
  },
  {
   "cell_type": "code",
   "execution_count": 145,
   "metadata": {},
   "outputs": [
    {
     "data": {
      "text/plain": [
       "((38453, 4), (51425, 4))"
      ]
     },
     "execution_count": 145,
     "metadata": {},
     "output_type": "execute_result"
    }
   ],
   "source": [
    "df[df['cluster']==0].shape, df[df['cluster']==1].shape"
   ]
  },
  {
   "cell_type": "code",
   "execution_count": 146,
   "metadata": {},
   "outputs": [
    {
     "data": {
      "text/plain": [
       "((4880, 4), (661, 4))"
      ]
     },
     "execution_count": 146,
     "metadata": {},
     "output_type": "execute_result"
    }
   ],
   "source": [
    "df[df['cluster']==2].shape, df[df['cluster']==3].shape"
   ]
  },
  {
   "cell_type": "code",
   "execution_count": 148,
   "metadata": {},
   "outputs": [
    {
     "data": {
      "text/html": [
       "<div>\n",
       "<style scoped>\n",
       "    .dataframe tbody tr th:only-of-type {\n",
       "        vertical-align: middle;\n",
       "    }\n",
       "\n",
       "    .dataframe tbody tr th {\n",
       "        vertical-align: top;\n",
       "    }\n",
       "\n",
       "    .dataframe thead th {\n",
       "        text-align: right;\n",
       "    }\n",
       "</style>\n",
       "<table border=\"1\" class=\"dataframe\">\n",
       "  <thead>\n",
       "    <tr style=\"text-align: right;\">\n",
       "      <th></th>\n",
       "      <th>count</th>\n",
       "      <th>mean</th>\n",
       "      <th>std</th>\n",
       "      <th>min</th>\n",
       "      <th>25%</th>\n",
       "      <th>50%</th>\n",
       "      <th>75%</th>\n",
       "      <th>max</th>\n",
       "    </tr>\n",
       "  </thead>\n",
       "  <tbody>\n",
       "    <tr>\n",
       "      <th>nbre_cmd_diff</th>\n",
       "      <td>38453.0</td>\n",
       "      <td>1.050789</td>\n",
       "      <td>0.269163</td>\n",
       "      <td>1.00</td>\n",
       "      <td>1.0</td>\n",
       "      <td>1.0</td>\n",
       "      <td>1.0</td>\n",
       "      <td>16.00</td>\n",
       "    </tr>\n",
       "    <tr>\n",
       "      <th>nbre_jour_apres_der_cmd</th>\n",
       "      <td>38453.0</td>\n",
       "      <td>391.139443</td>\n",
       "      <td>96.065847</td>\n",
       "      <td>259.00</td>\n",
       "      <td>304.0</td>\n",
       "      <td>379.0</td>\n",
       "      <td>465.0</td>\n",
       "      <td>724.00</td>\n",
       "    </tr>\n",
       "    <tr>\n",
       "      <th>price</th>\n",
       "      <td>38453.0</td>\n",
       "      <td>93.282392</td>\n",
       "      <td>70.918278</td>\n",
       "      <td>2.29</td>\n",
       "      <td>39.9</td>\n",
       "      <td>70.0</td>\n",
       "      <td>127.0</td>\n",
       "      <td>399.99</td>\n",
       "    </tr>\n",
       "    <tr>\n",
       "      <th>cluster</th>\n",
       "      <td>38453.0</td>\n",
       "      <td>0.000000</td>\n",
       "      <td>0.000000</td>\n",
       "      <td>0.00</td>\n",
       "      <td>0.0</td>\n",
       "      <td>0.0</td>\n",
       "      <td>0.0</td>\n",
       "      <td>0.00</td>\n",
       "    </tr>\n",
       "  </tbody>\n",
       "</table>\n",
       "</div>"
      ],
      "text/plain": [
       "                           count        mean        std     min    25%    50%  \\\n",
       "nbre_cmd_diff            38453.0    1.050789   0.269163    1.00    1.0    1.0   \n",
       "nbre_jour_apres_der_cmd  38453.0  391.139443  96.065847  259.00  304.0  379.0   \n",
       "price                    38453.0   93.282392  70.918278    2.29   39.9   70.0   \n",
       "cluster                  38453.0    0.000000   0.000000    0.00    0.0    0.0   \n",
       "\n",
       "                           75%     max  \n",
       "nbre_cmd_diff              1.0   16.00  \n",
       "nbre_jour_apres_der_cmd  465.0  724.00  \n",
       "price                    127.0  399.99  \n",
       "cluster                    0.0    0.00  "
      ]
     },
     "execution_count": 148,
     "metadata": {},
     "output_type": "execute_result"
    }
   ],
   "source": [
    "df[df['cluster']==0].describe().transpose()"
   ]
  },
  {
   "cell_type": "markdown",
   "metadata": {},
   "source": [
    "Dans notre 1er cluster, on a les clients qui :\n",
    "\n",
    "    - ont commandé entre 1 et 16 fois\n",
    "    - la dernière fois qu'il ont commandé remonte de 259 à 724 jours soit une moyenne de 391 jours\n",
    "    - le prix de leurs dernières commandes est comprise entre 2.29 et 399.99 UM soit un prix moyen de 93.28"
   ]
  },
  {
   "cell_type": "code",
   "execution_count": 166,
   "metadata": {},
   "outputs": [
    {
     "data": {
      "image/png": "[encoded data removed]",
      "text/plain": [
       "<Figure size 1800x576 with 3 Axes>"
      ]
     },
     "metadata": {},
     "output_type": "display_data"
    }
   ],
   "source": [
    "fig = plt.figure(figsize=(25, 8))\n",
    "for feat_idx in range(df[df['cluster']==0].drop(columns='cluster').values.shape[1]):\n",
    "    ax = fig.add_subplot(1,3, (feat_idx+1))\n",
    "    h = ax.hist(df[df['cluster']==0].drop(columns='cluster').values[:, feat_idx], bins=50, color='steelblue', density=True, edgecolor='none')\n",
    "    ax.set_title(df[df['cluster']==0].drop(columns='cluster').columns[feat_idx], fontsize=14)"
   ]
  },
  {
   "cell_type": "code",
   "execution_count": null,
   "metadata": {},
   "outputs": [],
   "source": []
  },
  {
   "cell_type": "code",
   "execution_count": null,
   "metadata": {},
   "outputs": [],
   "source": []
  },
  {
   "cell_type": "code",
   "execution_count": 149,
   "metadata": {},
   "outputs": [
    {
     "data": {
      "text/html": [
       "<div>\n",
       "<style scoped>\n",
       "    .dataframe tbody tr th:only-of-type {\n",
       "        vertical-align: middle;\n",
       "    }\n",
       "\n",
       "    .dataframe tbody tr th {\n",
       "        vertical-align: top;\n",
       "    }\n",
       "\n",
       "    .dataframe thead th {\n",
       "        text-align: right;\n",
       "    }\n",
       "</style>\n",
       "<table border=\"1\" class=\"dataframe\">\n",
       "  <thead>\n",
       "    <tr style=\"text-align: right;\">\n",
       "      <th></th>\n",
       "      <th>count</th>\n",
       "      <th>mean</th>\n",
       "      <th>std</th>\n",
       "      <th>min</th>\n",
       "      <th>25%</th>\n",
       "      <th>50%</th>\n",
       "      <th>75%</th>\n",
       "      <th>max</th>\n",
       "    </tr>\n",
       "  </thead>\n",
       "  <tbody>\n",
       "    <tr>\n",
       "      <th>nbre_cmd_diff</th>\n",
       "      <td>51425.0</td>\n",
       "      <td>1.022810</td>\n",
       "      <td>0.159744</td>\n",
       "      <td>1.00</td>\n",
       "      <td>1.00</td>\n",
       "      <td>1.0</td>\n",
       "      <td>1.00</td>\n",
       "      <td>5.0</td>\n",
       "    </tr>\n",
       "    <tr>\n",
       "      <th>nbre_jour_apres_der_cmd</th>\n",
       "      <td>51425.0</td>\n",
       "      <td>129.707555</td>\n",
       "      <td>73.127899</td>\n",
       "      <td>0.00</td>\n",
       "      <td>66.00</td>\n",
       "      <td>132.0</td>\n",
       "      <td>191.00</td>\n",
       "      <td>260.0</td>\n",
       "    </tr>\n",
       "    <tr>\n",
       "      <th>price</th>\n",
       "      <td>51425.0</td>\n",
       "      <td>91.875868</td>\n",
       "      <td>66.600206</td>\n",
       "      <td>0.85</td>\n",
       "      <td>39.99</td>\n",
       "      <td>74.9</td>\n",
       "      <td>125.99</td>\n",
       "      <td>359.9</td>\n",
       "    </tr>\n",
       "    <tr>\n",
       "      <th>cluster</th>\n",
       "      <td>51425.0</td>\n",
       "      <td>1.000000</td>\n",
       "      <td>0.000000</td>\n",
       "      <td>1.00</td>\n",
       "      <td>1.00</td>\n",
       "      <td>1.0</td>\n",
       "      <td>1.00</td>\n",
       "      <td>1.0</td>\n",
       "    </tr>\n",
       "  </tbody>\n",
       "</table>\n",
       "</div>"
      ],
      "text/plain": [
       "                           count        mean        std   min    25%    50%  \\\n",
       "nbre_cmd_diff            51425.0    1.022810   0.159744  1.00   1.00    1.0   \n",
       "nbre_jour_apres_der_cmd  51425.0  129.707555  73.127899  0.00  66.00  132.0   \n",
       "price                    51425.0   91.875868  66.600206  0.85  39.99   74.9   \n",
       "cluster                  51425.0    1.000000   0.000000  1.00   1.00    1.0   \n",
       "\n",
       "                            75%    max  \n",
       "nbre_cmd_diff              1.00    5.0  \n",
       "nbre_jour_apres_der_cmd  191.00  260.0  \n",
       "price                    125.99  359.9  \n",
       "cluster                    1.00    1.0  "
      ]
     },
     "execution_count": 149,
     "metadata": {},
     "output_type": "execute_result"
    }
   ],
   "source": [
    "df[df['cluster']==1].describe().transpose()"
   ]
  },
  {
   "cell_type": "markdown",
   "metadata": {},
   "source": [
    "Dans notre 2eme cluster, on a les clients qui :\n",
    "    \n",
    "    - ont commandé entre 1 et 5 fois\n",
    "    - la dernière fois qu'il ont commandé remonte de 0 à 260 jours soit une moyenne de 129 jours\n",
    "    - le prix de leurs dernières commandes est comprise entre 0.85 et 359.9 UM soit un prix moyen de 91.87"
   ]
  },
  {
   "cell_type": "code",
   "execution_count": 165,
   "metadata": {},
   "outputs": [
    {
     "data": {
      "image/png": "[encoded data removed]",
      "text/plain": [
       "<Figure size 1800x576 with 3 Axes>"
      ]
     },
     "metadata": {},
     "output_type": "display_data"
    }
   ],
   "source": [
    "fig = plt.figure(figsize=(25, 8))\n",
    "for feat_idx in range(df[df['cluster']==1].drop(columns='cluster').values.shape[1]):\n",
    "    ax = fig.add_subplot(1,3, (feat_idx+1))\n",
    "    h = ax.hist(df[df['cluster']==1].drop(columns='cluster').values[:, feat_idx], bins=50, color='steelblue', density=True, edgecolor='none')\n",
    "    ax.set_title(df[df['cluster']==1].drop(columns='cluster').columns[feat_idx], fontsize=14)"
   ]
  },
  {
   "cell_type": "code",
   "execution_count": 150,
   "metadata": {},
   "outputs": [
    {
     "data": {
      "text/html": [
       "<div>\n",
       "<style scoped>\n",
       "    .dataframe tbody tr th:only-of-type {\n",
       "        vertical-align: middle;\n",
       "    }\n",
       "\n",
       "    .dataframe tbody tr th {\n",
       "        vertical-align: top;\n",
       "    }\n",
       "\n",
       "    .dataframe thead th {\n",
       "        text-align: right;\n",
       "    }\n",
       "</style>\n",
       "<table border=\"1\" class=\"dataframe\">\n",
       "  <thead>\n",
       "    <tr style=\"text-align: right;\">\n",
       "      <th></th>\n",
       "      <th>count</th>\n",
       "      <th>mean</th>\n",
       "      <th>std</th>\n",
       "      <th>min</th>\n",
       "      <th>25%</th>\n",
       "      <th>50%</th>\n",
       "      <th>75%</th>\n",
       "      <th>max</th>\n",
       "    </tr>\n",
       "  </thead>\n",
       "  <tbody>\n",
       "    <tr>\n",
       "      <th>nbre_cmd_diff</th>\n",
       "      <td>4880.0</td>\n",
       "      <td>1.022746</td>\n",
       "      <td>0.164779</td>\n",
       "      <td>1.0</td>\n",
       "      <td>1.0</td>\n",
       "      <td>1.00</td>\n",
       "      <td>1.0000</td>\n",
       "      <td>4.00</td>\n",
       "    </tr>\n",
       "    <tr>\n",
       "      <th>nbre_jour_apres_der_cmd</th>\n",
       "      <td>4880.0</td>\n",
       "      <td>233.185861</td>\n",
       "      <td>143.548844</td>\n",
       "      <td>1.0</td>\n",
       "      <td>120.0</td>\n",
       "      <td>216.00</td>\n",
       "      <td>323.0000</td>\n",
       "      <td>694.00</td>\n",
       "    </tr>\n",
       "    <tr>\n",
       "      <th>price</th>\n",
       "      <td>4880.0</td>\n",
       "      <td>554.488678</td>\n",
       "      <td>196.090300</td>\n",
       "      <td>309.0</td>\n",
       "      <td>390.0</td>\n",
       "      <td>499.99</td>\n",
       "      <td>669.1625</td>\n",
       "      <td>1129.99</td>\n",
       "    </tr>\n",
       "    <tr>\n",
       "      <th>cluster</th>\n",
       "      <td>4880.0</td>\n",
       "      <td>2.000000</td>\n",
       "      <td>0.000000</td>\n",
       "      <td>2.0</td>\n",
       "      <td>2.0</td>\n",
       "      <td>2.00</td>\n",
       "      <td>2.0000</td>\n",
       "      <td>2.00</td>\n",
       "    </tr>\n",
       "  </tbody>\n",
       "</table>\n",
       "</div>"
      ],
      "text/plain": [
       "                          count        mean         std    min    25%     50%  \\\n",
       "nbre_cmd_diff            4880.0    1.022746    0.164779    1.0    1.0    1.00   \n",
       "nbre_jour_apres_der_cmd  4880.0  233.185861  143.548844    1.0  120.0  216.00   \n",
       "price                    4880.0  554.488678  196.090300  309.0  390.0  499.99   \n",
       "cluster                  4880.0    2.000000    0.000000    2.0    2.0    2.00   \n",
       "\n",
       "                              75%      max  \n",
       "nbre_cmd_diff              1.0000     4.00  \n",
       "nbre_jour_apres_der_cmd  323.0000   694.00  \n",
       "price                    669.1625  1129.99  \n",
       "cluster                    2.0000     2.00  "
      ]
     },
     "execution_count": 150,
     "metadata": {},
     "output_type": "execute_result"
    }
   ],
   "source": [
    "df[df['cluster']==2].describe().transpose()"
   ]
  },
  {
   "cell_type": "markdown",
   "metadata": {},
   "source": [
    "Dans notre 3eme cluster, on a les clients qui :\n",
    "    \n",
    "    - ont commandé entre 1 et 4 fois\n",
    "    - la dernière fois qu'il ont commandé remonte de 1 à 694 jours soit une moyenne de 233 jours\n",
    "    - le prix de leurs dernières commandes est comprise entre 309 et 1129.99 UM soit un prix moyen de 554.49"
   ]
  },
  {
   "cell_type": "code",
   "execution_count": 164,
   "metadata": {},
   "outputs": [
    {
     "data": {
      "image/png": "[encoded data removed]",
      "text/plain": [
       "<Figure size 1800x576 with 3 Axes>"
      ]
     },
     "metadata": {},
     "output_type": "display_data"
    }
   ],
   "source": [
    "fig = plt.figure(figsize=(25, 8))\n",
    "for feat_idx in range(df[df['cluster']==2].drop(columns='cluster').values.shape[1]):\n",
    "    ax = fig.add_subplot(1,3, (feat_idx+1))\n",
    "    h = ax.hist(df[df['cluster']==2].drop(columns='cluster').values[:, feat_idx], bins=50, color='steelblue', density=True, edgecolor='none')\n",
    "    ax.set_title(df[df['cluster']==2].drop(columns='cluster').columns[feat_idx], fontsize=14)"
   ]
  },
  {
   "cell_type": "code",
   "execution_count": 151,
   "metadata": {},
   "outputs": [
    {
     "data": {
      "text/html": [
       "<div>\n",
       "<style scoped>\n",
       "    .dataframe tbody tr th:only-of-type {\n",
       "        vertical-align: middle;\n",
       "    }\n",
       "\n",
       "    .dataframe tbody tr th {\n",
       "        vertical-align: top;\n",
       "    }\n",
       "\n",
       "    .dataframe thead th {\n",
       "        text-align: right;\n",
       "    }\n",
       "</style>\n",
       "<table border=\"1\" class=\"dataframe\">\n",
       "  <thead>\n",
       "    <tr style=\"text-align: right;\">\n",
       "      <th></th>\n",
       "      <th>count</th>\n",
       "      <th>mean</th>\n",
       "      <th>std</th>\n",
       "      <th>min</th>\n",
       "      <th>25%</th>\n",
       "      <th>50%</th>\n",
       "      <th>75%</th>\n",
       "      <th>max</th>\n",
       "    </tr>\n",
       "  </thead>\n",
       "  <tbody>\n",
       "    <tr>\n",
       "      <th>nbre_cmd_diff</th>\n",
       "      <td>661.0</td>\n",
       "      <td>1.013616</td>\n",
       "      <td>0.115977</td>\n",
       "      <td>1.00</td>\n",
       "      <td>1.0</td>\n",
       "      <td>1.0</td>\n",
       "      <td>1.0</td>\n",
       "      <td>2.0</td>\n",
       "    </tr>\n",
       "    <tr>\n",
       "      <th>nbre_jour_apres_der_cmd</th>\n",
       "      <td>661.0</td>\n",
       "      <td>248.868381</td>\n",
       "      <td>165.885948</td>\n",
       "      <td>3.00</td>\n",
       "      <td>105.0</td>\n",
       "      <td>231.0</td>\n",
       "      <td>364.0</td>\n",
       "      <td>693.0</td>\n",
       "    </tr>\n",
       "    <tr>\n",
       "      <th>price</th>\n",
       "      <td>661.0</td>\n",
       "      <td>1708.057988</td>\n",
       "      <td>674.527331</td>\n",
       "      <td>1129.34</td>\n",
       "      <td>1299.0</td>\n",
       "      <td>1499.0</td>\n",
       "      <td>1934.0</td>\n",
       "      <td>6735.0</td>\n",
       "    </tr>\n",
       "    <tr>\n",
       "      <th>cluster</th>\n",
       "      <td>661.0</td>\n",
       "      <td>3.000000</td>\n",
       "      <td>0.000000</td>\n",
       "      <td>3.00</td>\n",
       "      <td>3.0</td>\n",
       "      <td>3.0</td>\n",
       "      <td>3.0</td>\n",
       "      <td>3.0</td>\n",
       "    </tr>\n",
       "  </tbody>\n",
       "</table>\n",
       "</div>"
      ],
      "text/plain": [
       "                         count         mean         std      min     25%  \\\n",
       "nbre_cmd_diff            661.0     1.013616    0.115977     1.00     1.0   \n",
       "nbre_jour_apres_der_cmd  661.0   248.868381  165.885948     3.00   105.0   \n",
       "price                    661.0  1708.057988  674.527331  1129.34  1299.0   \n",
       "cluster                  661.0     3.000000    0.000000     3.00     3.0   \n",
       "\n",
       "                            50%     75%     max  \n",
       "nbre_cmd_diff               1.0     1.0     2.0  \n",
       "nbre_jour_apres_der_cmd   231.0   364.0   693.0  \n",
       "price                    1499.0  1934.0  6735.0  \n",
       "cluster                     3.0     3.0     3.0  "
      ]
     },
     "execution_count": 151,
     "metadata": {},
     "output_type": "execute_result"
    }
   ],
   "source": [
    "df[df['cluster']==3].describe().transpose()"
   ]
  },
  {
   "cell_type": "markdown",
   "metadata": {},
   "source": [
    "Dans notre 4eme cluster, on a les clients qui :\n",
    "    \n",
    "    - ont commandé entre 1 et 2 fois\n",
    "    - la dernière fois qu'il ont commandé remonte de 3 à 693 jours soit une moyenne de 249 jours\n",
    "    - le prix de leurs dernières commandes est comprise entre 1129.34 et 6735 UM soit un prix moyen de 1708"
   ]
  },
  {
   "cell_type": "code",
   "execution_count": 156,
   "metadata": {},
   "outputs": [],
   "source": [
    "import matplotlib.pyplot as plt"
   ]
  },
  {
   "cell_type": "code",
   "execution_count": 163,
   "metadata": {},
   "outputs": [
    {
     "data": {
      "image/png": "[encoded data removed]",
      "text/plain": [
       "<Figure size 1800x576 with 3 Axes>"
      ]
     },
     "metadata": {},
     "output_type": "display_data"
    }
   ],
   "source": [
    "fig = plt.figure(figsize=(25, 8))\n",
    "for feat_idx in range(df[df['cluster']==3].drop(columns='cluster').values.shape[1]):\n",
    "    ax = fig.add_subplot(1,3, (feat_idx+1))\n",
    "    h = ax.hist(df[df['cluster']==3].drop(columns='cluster').values[:, feat_idx], bins=50, color='steelblue', density=True, edgecolor='none')\n",
    "    ax.set_title(df[df['cluster']==3].drop(columns='cluster').columns[feat_idx], fontsize=14)"
   ]
  },
  {
   "cell_type": "code",
   "execution_count": null,
   "metadata": {},
   "outputs": [],
   "source": []
  },
  {
   "cell_type": "markdown",
   "metadata": {},
   "source": [
    "# EVALUATION DE LA STABILITE DES CLUSTERS DANS LE TEMPS"
   ]
  },
  {
   "cell_type": "markdown",
   "metadata": {},
   "source": [
    "## 1 -  EVALUATION DE LA STABILITE DES CLUSTERS DURANT LES SIX PREMIERS MOIS "
   ]
  },
  {
   "cell_type": "code",
   "execution_count": 10,
   "metadata": {},
   "outputs": [
    {
     "data": {
      "text/plain": [
       "(2994, 4)"
      ]
     },
     "execution_count": 10,
     "metadata": {},
     "output_type": "execute_result"
    }
   ],
   "source": [
    "df_[df_['nbre_jour_apres_der_cmd'] >= 724 - 180].shape"
   ]
  },
  {
   "cell_type": "code",
   "execution_count": 12,
   "metadata": {},
   "outputs": [
    {
     "name": "stdout",
     "output_type": "stream",
     "text": [
      "Coef Silh KMEANS :  0.72\n",
      "\n",
      "Coef Silh DBSCAN :  0.36\n"
     ]
    }
   ],
   "source": [
    "#Entranons notre modèle avec les données des 6 premiers mois \n",
    "#et vérifions de nouveau le nombre de cluster et le coef de silhouette\n",
    "\n",
    "df = df_[df_['nbre_jour_apres_der_cmd'] >= 724 - 180].drop(columns=['derniere_date_cmd'])\n",
    "\n",
    "\n",
    "kmeans1 = KMeans(n_clusters=4)\n",
    "kmeans1.fit(df)\n",
    "print(\"Coef Silh KMEANS : \", silhouette_score(df, kmeans1.labels_).round(2))\n",
    "\n",
    "\n",
    "DBSCAN1 = DBSCAN(eps=34)\n",
    "DBSCAN1.fit(df)\n",
    "print(\"\\nCoef Silh DBSCAN : \", silhouette_score(df, DBSCAN1.labels_).round(2))\n",
    "\n",
    "\n",
    "#print(\"\\nARI KMEAN2 : \", round(adjusted_rand_score(kmeans2.labels_, kmeans3.labels_[:len(kmeans2.labels_)]), 2))\n",
    "\n",
    "#print(\"\\nARI DBSCAN2 : \", round(adjusted_rand_score(DBScan2.labels_, DBSCAN3.labels_[:len(DBScan2.labels_)]), 2))"
   ]
  },
  {
   "cell_type": "code",
   "execution_count": null,
   "metadata": {},
   "outputs": [],
   "source": []
  },
  {
   "cell_type": "markdown",
   "metadata": {},
   "source": [
    "## EVALUATION DE LA STABILITE DES CLUSTERS DURANT LES 12 PREMIERS MOIS "
   ]
  },
  {
   "cell_type": "code",
   "execution_count": 13,
   "metadata": {},
   "outputs": [
    {
     "name": "stdout",
     "output_type": "stream",
     "text": [
      "Coef Silh KMEANS :  0.48\n",
      "\n",
      "Coef Silh DBSCAN :  0.42\n",
      "\n",
      "ARI KMEAN2 :  0.5\n",
      "\n",
      "ARI DBSCAN2 :  0.98\n"
     ]
    }
   ],
   "source": [
    "df = df_[df_['nbre_jour_apres_der_cmd'] >= 724 - 365].drop(columns=['derniere_date_cmd'])\n",
    "\n",
    "\n",
    "kmeans2 = KMeans(n_clusters=4)\n",
    "kmeans2.fit(df)\n",
    "print(\"Coef Silh KMEANS : \", silhouette_score(df, kmeans2.labels_).round(2))\n",
    "\n",
    "\n",
    "DBSCAN2 = DBSCAN(eps=34)\n",
    "DBSCAN2.fit(df)\n",
    "print(\"\\nCoef Silh DBSCAN : \", silhouette_score(df, DBSCAN2.labels_).round(2))\n",
    "\n",
    "\n",
    "print(\"\\nARI KMEAN2 : \", round(adjusted_rand_score(kmeans1.labels_, kmeans2.labels_[:len(kmeans1.labels_)]), 2))\n",
    "\n",
    "print(\"\\nARI DBSCAN2 : \", round(adjusted_rand_score(DBSCAN1.labels_, DBSCAN2.labels_[:len(DBSCAN1.labels_)]), 2))"
   ]
  },
  {
   "cell_type": "code",
   "execution_count": null,
   "metadata": {},
   "outputs": [],
   "source": []
  },
  {
   "cell_type": "markdown",
   "metadata": {},
   "source": [
    "## EVALUATION DE LA STABILITE DES CLUSTERS DURANT LES 18 PREMIERS MOIS "
   ]
  },
  {
   "cell_type": "code",
   "execution_count": 14,
   "metadata": {},
   "outputs": [
    {
     "name": "stdout",
     "output_type": "stream",
     "text": [
      "Coef Silh KMEANS :  0.48\n",
      "\n",
      "Coef Silh DBSCAN :  0.43\n",
      "\n",
      "ARI KMEAN2 :  0.38\n",
      "\n",
      "ARI DBSCAN2 :  0.96\n"
     ]
    }
   ],
   "source": [
    "df = df_[df_['nbre_jour_apres_der_cmd'] >= 724 - 545].drop(columns=['derniere_date_cmd'])\n",
    "\n",
    "\n",
    "kmeans3 = KMeans(n_clusters=4)\n",
    "kmeans3.fit(df)\n",
    "print(\"Coef Silh KMEANS : \", silhouette_score(df, kmeans3.labels_).round(2))\n",
    "\n",
    "\n",
    "DBSCAN3 = DBSCAN(eps=34)\n",
    "DBSCAN3.fit(df)\n",
    "print(\"\\nCoef Silh DBSCAN : \", silhouette_score(df, DBSCAN3.labels_).round(2))\n",
    "\n",
    "\n",
    "print(\"\\nARI KMEAN2 : \", round(adjusted_rand_score(kmeans2.labels_, kmeans3.labels_[:len(kmeans2.labels_)]), 2))\n",
    "\n",
    "print(\"\\nARI DBSCAN2 : \", round(adjusted_rand_score(DBSCAN2.labels_, DBSCAN3.labels_[:len(DBSCAN2.labels_)]), 2))"
   ]
  },
  {
   "cell_type": "code",
   "execution_count": null,
   "metadata": {},
   "outputs": [],
   "source": []
  },
  {
   "cell_type": "markdown",
   "metadata": {},
   "source": [
    "## EVALUATION DE LA STABILITE DES CLUSTERS DURANT LES 24 PREMIERS MOIS"
   ]
  },
  {
   "cell_type": "code",
   "execution_count": 15,
   "metadata": {},
   "outputs": [
    {
     "name": "stdout",
     "output_type": "stream",
     "text": [
      "Coef Silh KMEANS :  0.48\n",
      "\n",
      "Coef Silh DBSCAN :  0.43\n",
      "\n",
      "ARI KMEAN4 :  0.22\n",
      "\n",
      "ARI DBSCAN4 :  0.97\n"
     ]
    }
   ],
   "source": [
    "df = df_.drop(columns=['derniere_date_cmd'])\n",
    "\n",
    "\n",
    "kmeans4 = KMeans(n_clusters=4)\n",
    "kmeans4.fit(df)\n",
    "print(\"Coef Silh KMEANS : \", silhouette_score(df, kmeans4.labels_).round(2))\n",
    "\n",
    "\n",
    "DBSCAN4 = DBSCAN(eps=34)\n",
    "DBSCAN4.fit(df)\n",
    "print(\"\\nCoef Silh DBSCAN : \", silhouette_score(df, DBSCAN4.labels_).round(2))\n",
    "\n",
    "\n",
    "print(\"\\nARI KMEAN4 : \", round(adjusted_rand_score(kmeans3.labels_, kmeans4.labels_[:len(kmeans3.labels_)]), 2))\n",
    "\n",
    "print(\"\\nARI DBSCAN4 : \", round(adjusted_rand_score(DBSCAN3.labels_, DBSCAN4.labels_[:len(DBSCAN3.labels_)]), 2))"
   ]
  },
  {
   "cell_type": "code",
   "execution_count": null,
   "metadata": {},
   "outputs": [],
   "source": []
  },
  {
   "cell_type": "code",
   "execution_count": null,
   "metadata": {},
   "outputs": [],
   "source": []
  },
  {
   "cell_type": "code",
   "execution_count": null,
   "metadata": {},
   "outputs": [],
   "source": []
  }
 ],
 "metadata": {
  "accelerator": "GPU",
  "colab": {
   "collapsed_sections": [],
   "name": "P5_OLIST_02_notebookessais.ipynb",
   "provenance": []
  },
  "kernelspec": {
   "display_name": "Python 3",
   "language": "python",
   "name": "python3"
  },
  "language_info": {
   "codemirror_mode": {
    "name": "ipython",
    "version": 3
   },
   "file_extension": ".py",
   "mimetype": "text/x-python",
   "name": "python",
   "nbconvert_exporter": "python",
   "pygments_lexer": "ipython3",
   "version": "3.8.5"
  }
 },
 "nbformat": 4,
 "nbformat_minor": 1
}
